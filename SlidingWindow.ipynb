{
 "cells": [
  {
   "cell_type": "code",
   "execution_count": 21,
   "metadata": {},
   "outputs": [],
   "source": [
    "import random\n",
    "import matplotlib.pyplot as plt\n",
    "letter=['A','T','G','C']"
   ]
  },
  {
   "cell_type": "code",
   "execution_count": 58,
   "metadata": {},
   "outputs": [],
   "source": [
    "def create_dna(letter):           #creation of dna sequences\n",
    "    sequences=[]\n",
    "    for i in range(2):\n",
    "        dna=[]\n",
    "        for j in range(100):\n",
    "            l=random.choice(letter)\n",
    "            dna.append(l)\n",
    "        a=''.join(dna)    #dna sequences creation\n",
    "        sequences.append(a)\n",
    "    return sequences"
   ]
  },
  {
   "cell_type": "code",
   "execution_count": 59,
   "metadata": {},
   "outputs": [],
   "source": [
    "sequences=create_dna(letter)\n",
    "a=len(sequences[0])\n",
    "b=len(sequences[1])"
   ]
  },
  {
   "cell_type": "code",
   "execution_count": 60,
   "metadata": {},
   "outputs": [],
   "source": [
    "import numpy as np\n",
    "matrix = np.zeros( (a,b) )"
   ]
  },
  {
   "cell_type": "code",
   "execution_count": 61,
   "metadata": {},
   "outputs": [],
   "source": [
    "def DotPlot(sequences,threshold=8):\n",
    "    a=sequences[0]\n",
    "    b=sequences[1]\n",
    "    x=[]\n",
    "    y=[]\n",
    "    for i in range(0,len(a),10):\n",
    "        for j in range(0,len(b),10):\n",
    "           sub_a=a[i:i+10] \n",
    "           sub_b=b[j:j+10]\n",
    "           c=0 \n",
    "           print(sub_a,sub_b) \n",
    "           for k in range(len(sub_a)):\n",
    "                for l in range(len(sub_b)):\n",
    "                    if sub_a[k]==sub_b[l]:\n",
    "                        c+=1\n",
    "           if(c>=8):\n",
    "                matrix[i,j]=1\n",
    "    return matrix       "
   ]
  },
  {
   "cell_type": "code",
   "execution_count": 62,
   "metadata": {},
   "outputs": [
    {
     "name": "stdout",
     "output_type": "stream",
     "text": [
      "CGCCGAAATA AGGCGGAAAC\n",
      "CGCCGAAATA GTTAACACTT\n",
      "CGCCGAAATA GATGGGTATC\n",
      "CGCCGAAATA GTAGCCTCAA\n",
      "CGCCGAAATA AGCTATACTG\n",
      "CGCCGAAATA ATTCGGATTT\n",
      "CGCCGAAATA CACGACCTGA\n",
      "CGCCGAAATA GACCCTCTGA\n",
      "CGCCGAAATA CGAACTATAC\n",
      "CGCCGAAATA ATGTGAAATG\n",
      "TTCTTCGGGA AGGCGGAAAC\n",
      "TTCTTCGGGA GTTAACACTT\n",
      "TTCTTCGGGA GATGGGTATC\n",
      "TTCTTCGGGA GTAGCCTCAA\n",
      "TTCTTCGGGA AGCTATACTG\n",
      "TTCTTCGGGA ATTCGGATTT\n",
      "TTCTTCGGGA CACGACCTGA\n",
      "TTCTTCGGGA GACCCTCTGA\n",
      "TTCTTCGGGA CGAACTATAC\n",
      "TTCTTCGGGA ATGTGAAATG\n",
      "TGGTAAGGGT AGGCGGAAAC\n",
      "TGGTAAGGGT GTTAACACTT\n",
      "TGGTAAGGGT GATGGGTATC\n",
      "TGGTAAGGGT GTAGCCTCAA\n",
      "TGGTAAGGGT AGCTATACTG\n",
      "TGGTAAGGGT ATTCGGATTT\n",
      "TGGTAAGGGT CACGACCTGA\n",
      "TGGTAAGGGT GACCCTCTGA\n",
      "TGGTAAGGGT CGAACTATAC\n",
      "TGGTAAGGGT ATGTGAAATG\n",
      "AATTATACTA AGGCGGAAAC\n",
      "AATTATACTA GTTAACACTT\n",
      "AATTATACTA GATGGGTATC\n",
      "AATTATACTA GTAGCCTCAA\n",
      "AATTATACTA AGCTATACTG\n",
      "AATTATACTA ATTCGGATTT\n",
      "AATTATACTA CACGACCTGA\n",
      "AATTATACTA GACCCTCTGA\n",
      "AATTATACTA CGAACTATAC\n",
      "AATTATACTA ATGTGAAATG\n",
      "GCAGTCGACC AGGCGGAAAC\n",
      "GCAGTCGACC GTTAACACTT\n",
      "GCAGTCGACC GATGGGTATC\n",
      "GCAGTCGACC GTAGCCTCAA\n",
      "GCAGTCGACC AGCTATACTG\n",
      "GCAGTCGACC ATTCGGATTT\n",
      "GCAGTCGACC CACGACCTGA\n",
      "GCAGTCGACC GACCCTCTGA\n",
      "GCAGTCGACC CGAACTATAC\n",
      "GCAGTCGACC ATGTGAAATG\n",
      "CAGAGCAGGA AGGCGGAAAC\n",
      "CAGAGCAGGA GTTAACACTT\n",
      "CAGAGCAGGA GATGGGTATC\n",
      "CAGAGCAGGA GTAGCCTCAA\n",
      "CAGAGCAGGA AGCTATACTG\n",
      "CAGAGCAGGA ATTCGGATTT\n",
      "CAGAGCAGGA CACGACCTGA\n",
      "CAGAGCAGGA GACCCTCTGA\n",
      "CAGAGCAGGA CGAACTATAC\n",
      "CAGAGCAGGA ATGTGAAATG\n",
      "CCTAGACTAA AGGCGGAAAC\n",
      "CCTAGACTAA GTTAACACTT\n",
      "CCTAGACTAA GATGGGTATC\n",
      "CCTAGACTAA GTAGCCTCAA\n",
      "CCTAGACTAA AGCTATACTG\n",
      "CCTAGACTAA ATTCGGATTT\n",
      "CCTAGACTAA CACGACCTGA\n",
      "CCTAGACTAA GACCCTCTGA\n",
      "CCTAGACTAA CGAACTATAC\n",
      "CCTAGACTAA ATGTGAAATG\n",
      "GCTAGCCGTG AGGCGGAAAC\n",
      "GCTAGCCGTG GTTAACACTT\n",
      "GCTAGCCGTG GATGGGTATC\n",
      "GCTAGCCGTG GTAGCCTCAA\n",
      "GCTAGCCGTG AGCTATACTG\n",
      "GCTAGCCGTG ATTCGGATTT\n",
      "GCTAGCCGTG CACGACCTGA\n",
      "GCTAGCCGTG GACCCTCTGA\n",
      "GCTAGCCGTG CGAACTATAC\n",
      "GCTAGCCGTG ATGTGAAATG\n",
      "ATGTCAGACA AGGCGGAAAC\n",
      "ATGTCAGACA GTTAACACTT\n",
      "ATGTCAGACA GATGGGTATC\n",
      "ATGTCAGACA GTAGCCTCAA\n",
      "ATGTCAGACA AGCTATACTG\n",
      "ATGTCAGACA ATTCGGATTT\n",
      "ATGTCAGACA CACGACCTGA\n",
      "ATGTCAGACA GACCCTCTGA\n",
      "ATGTCAGACA CGAACTATAC\n",
      "ATGTCAGACA ATGTGAAATG\n",
      "TCATCGGTAT AGGCGGAAAC\n",
      "TCATCGGTAT GTTAACACTT\n",
      "TCATCGGTAT GATGGGTATC\n",
      "TCATCGGTAT GTAGCCTCAA\n",
      "TCATCGGTAT AGCTATACTG\n",
      "TCATCGGTAT ATTCGGATTT\n",
      "TCATCGGTAT CACGACCTGA\n",
      "TCATCGGTAT GACCCTCTGA\n",
      "TCATCGGTAT CGAACTATAC\n",
      "TCATCGGTAT ATGTGAAATG\n"
     ]
    },
    {
     "data": {
      "text/plain": [
       "array([[1., 0., 0., ..., 0., 0., 0.],\n",
       "       [0., 0., 0., ..., 0., 0., 0.],\n",
       "       [0., 0., 0., ..., 0., 0., 0.],\n",
       "       ...,\n",
       "       [0., 0., 0., ..., 0., 0., 0.],\n",
       "       [0., 0., 0., ..., 0., 0., 0.],\n",
       "       [0., 0., 0., ..., 0., 0., 0.]])"
      ]
     },
     "execution_count": 62,
     "metadata": {},
     "output_type": "execute_result"
    }
   ],
   "source": [
    "matrix=DotPlot(sequences,threshold=8)\n",
    "matrix"
   ]
  },
  {
   "cell_type": "code",
   "execution_count": 63,
   "metadata": {},
   "outputs": [
    {
     "data": {
      "text/plain": [
       "<matplotlib.lines.Line2D at 0x1dce21db710>"
      ]
     },
     "execution_count": 63,
     "metadata": {},
     "output_type": "execute_result"
    },
    {
     "data": {
      "image/png": "[encoded data removed]",
      "text/plain": [
       "<Figure size 216x216 with 1 Axes>"
      ]
     },
     "metadata": {},
     "output_type": "display_data"
    }
   ],
   "source": [
    "plt.figure(figsize=(3,3))\n",
    "plt.spy(matrix,markersize=1)"
   ]
  },
  {
   "cell_type": "code",
   "execution_count": null,
   "metadata": {},
   "outputs": [],
   "source": []
  },
  {
   "cell_type": "code",
   "execution_count": null,
   "metadata": {},
   "outputs": [],
   "source": []
  },
  {
   "cell_type": "code",
   "execution_count": null,
   "metadata": {},
   "outputs": [],
   "source": []
  },
  {
   "cell_type": "code",
   "execution_count": null,
   "metadata": {},
   "outputs": [],
   "source": []
  },
  {
   "cell_type": "code",
   "execution_count": null,
   "metadata": {},
   "outputs": [],
   "source": []
  }
 ],
 "metadata": {
  "kernelspec": {
   "display_name": "Python 3",
   "language": "python",
   "name": "python3"
  },
  "language_info": {
   "codemirror_mode": {
    "name": "ipython",
    "version": 3
   },
   "file_extension": ".py",
   "mimetype": "text/x-python",
   "name": "python",
   "nbconvert_exporter": "python",
   "pygments_lexer": "ipython3",
   "version": "3.6.5"
  }
 },
 "nbformat": 4,
 "nbformat_minor": 2
}
